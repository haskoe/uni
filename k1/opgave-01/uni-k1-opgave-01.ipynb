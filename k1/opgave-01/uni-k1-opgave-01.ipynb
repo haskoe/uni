{
 "cells": [
  {
   "cell_type": "code",
   "execution_count": 14,
   "id": "e74a9f27-4214-4f56-9a92-8295de2f5359",
   "metadata": {},
   "outputs": [
    {
     "name": "stdout",
     "output_type": "stream",
     "text": [
      "          Energy percentage  Standard deviation  Standard error\n",
      "Alcoholp           0.000000            0.000000        0.000000\n",
      "Proteinp          23.767847            1.974775        0.987388\n",
      "Carbsp            44.543602            3.988523        1.994262\n",
      "Fatp              31.688551            5.546883        2.773441\n"
     ]
    },
    {
     "data": {
      "image/png": "[encoded data removed]",
      "text/plain": [
       "<Figure size 640x480 with 1 Axes>"
      ]
     },
     "metadata": {},
     "output_type": "display_data"
    }
   ],
   "source": [
    "import pandas as pd\n",
    "from os import path\n",
    "import numpy as np\n",
    "import matplotlib.pyplot as plt\n",
    "import math\n",
    "\n",
    "def load_dict(dict_file,sep=';'):\n",
    "    with open(dict_file,'r') as f:\n",
    "        return dict([(l[0],float(l[1])) for l in [l.split(';') for l in f.readlines()]])\n",
    "\n",
    "def mean_stderr_ref_plot(mean_stderr_df,ref,column_names, mean_std_stderr_columnnames):\n",
    "    mean,std,stderr = mean_std_stderr_columnnames\n",
    "    ax = mean_stderr_df.plot(ylim=(0, 100),kind='bar',y=mean, yerr=stderr, rot=0, fill=False)\n",
    "    width=0.5\n",
    "    x=0\n",
    "    for i,c in enumerate(column_names):\n",
    "        ax.hlines(ref[c], x - width/2, x + width/2, color='red')\n",
    "        x += 1\n",
    "\n",
    "TOTAL_ENERGY = 'Total energy'\n",
    "def analysis(input_df,columns,mean_std_stderr_columnnames):\n",
    "    mean,std,stderr = mean_std_stderr_columnnames\n",
    "    df = input_df.copy()\n",
    "    energy_columns = [c.split()[0] for c in columns]\n",
    "    energy_percentage_columns = [c+'p' for c in energy_columns]\n",
    "\n",
    "    # calculate energy, total energy and energy percentage for each column in trial dataset and reference dataset and store in 'energy_columns'\n",
    "    # energy\n",
    "    for mc,ec in zip(columns,energy_columns):\n",
    "        df[ec] = df[mc]*kcal_pr_g[mc]\n",
    "    \n",
    "    # total energy\n",
    "    df[TOTAL_ENERGY] = df[energy_columns].sum(axis=1)\n",
    "\n",
    "    # and energy percentage\n",
    "    for ec,epc in zip(energy_columns,energy_percentage_columns):\n",
    "        df[epc] = 100 * df[ec] / df[TOTAL_ENERGY]\n",
    "\n",
    "    # mean and std dev\n",
    "    mean_std_df = df[energy_percentage_columns].describe().loc[['mean','std']].T\n",
    "    mean_std_df = mean_std_df.rename(columns={'mean':mean,'std': std})\n",
    "    mean_std_df[stderr] = mean_std_df[std] / math.sqrt(len(mean_std_df))\n",
    "    \n",
    "    return df, mean_std_df, [columns, energy_columns, energy_percentage_columns]\n",
    "\n",
    "ref = load_dict('work/nordic-nutrition-recommendations-transposed.csv')\n",
    "kcal_pr_g = load_dict('work/kcal_pr_g.csv')\n",
    "\n",
    "df = pd.read_csv('work/ffq.tsv',sep='\\t')\n",
    "df = pd.read_csv('work/4-day-julian.csv',sep=';')\n",
    "\n",
    "macronutrient_columns = ['Alcohol (g)','Protein (g)','Carbs (g)','Fat (g)']\n",
    "\n",
    "students = [3,4,22,34,66,35]\n",
    "df = df[df['Stud_Nr'].isin(students)][macronutrient_columns].apply(pd.to_numeric)\n",
    "\n",
    "mean_std_stderr_columnnames = ('Energy percentage','Standard deviation','Standard error')\n",
    "\n",
    "result_df, result_mean_std_df, column_names = analysis( df, macronutrient_columns, mean_std_stderr_columnnames)\n",
    "print(result_mean_std_df)\n",
    "mean_stderr_ref_plot(result_mean_std_df, ref, column_names[-1], mean_std_stderr_columnnames)\n",
    "plt.show()\n"
   ]
  }
 ],
 "metadata": {
  "kernelspec": {
   "display_name": "Python 3 (ipykernel)",
   "language": "python",
   "name": "python3"
  },
  "language_info": {
   "codemirror_mode": {
    "name": "ipython",
    "version": 3
   },
   "file_extension": ".py",
   "mimetype": "text/x-python",
   "name": "python",
   "nbconvert_exporter": "python",
   "pygments_lexer": "ipython3",
   "version": "3.11.6"
  }
 },
 "nbformat": 4,
 "nbformat_minor": 5
}
